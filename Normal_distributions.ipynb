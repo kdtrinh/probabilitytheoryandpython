{
  "nbformat": 4,
  "nbformat_minor": 0,
  "metadata": {
    "colab": {
      "provenance": [],
      "authorship_tag": "ABX9TyP0h1hfMejILUAyXqJ3cXwB",
      "include_colab_link": true
    },
    "kernelspec": {
      "name": "python3",
      "display_name": "Python 3"
    },
    "language_info": {
      "name": "python"
    }
  },
  "cells": [
    {
      "cell_type": "markdown",
      "metadata": {
        "id": "view-in-github",
        "colab_type": "text"
      },
      "source": [
        "<a href=\"https://colab.research.google.com/github/kdtrinh/probabilitytheoryandpython/blob/main/Normal_distributions.ipynb\" target=\"_parent\"><img src=\"https://colab.research.google.com/assets/colab-badge.svg\" alt=\"Open In Colab\"/></a>"
      ]
    },
    {
      "cell_type": "markdown",
      "source": [
        "# Standard normal distribution\n",
        "A random variable $Z$ has the standard normal distribution (standard Gaussian distribution) if it has the probability density function (pdf):\n",
        "$$\n",
        "    f(x) = \\frac{1}{\\sqrt{2\\pi}} e^{-\\frac{x^2}2}, \\quad x \\in (-\\infty, \\infty).\n",
        "$$\n",
        "\n",
        "+ ($f(x) > 0$ for all $x \\in (-\\infty, \\infty)$, and\n",
        "$$\n",
        "    \\int_{-\\infty}^\\infty f(x) dx = \\int_{-\\infty}^\\infty \\frac{1}{\\sqrt{2\\pi}} e^{-\\frac{x^2}2} = 1.)\n",
        "$$\n",
        "\n",
        "The (cumulative) distribution function (cdf) of the standard normal distribution is denoted by $\\Phi(x)$,\n",
        "$$\n",
        "    \\Phi(x) = \\mathbb P(Z \\le x) = \\int_{-\\infty}^x \\frac{1}{\\sqrt{2\\pi}} e^{-\\frac{t^2}2}dt.\n",
        "$$\n",
        "Since the pdf is symmetric around $0$, $\\Phi(0) = 0$ and $\\Phi(x) + \\Phi(-x) = 1$ for all $x \\in (-\\infty, \\infty)$.\n",
        "\n",
        "The mean value of $Z$ is $0$ and the variance of $Z$ is $1$.\n",
        "\n",
        "To find the value of $\\Phi(x)$, we use scipy.stats.norm  "
      ],
      "metadata": {
        "id": "wJdP6GxblLYa"
      }
    },
    {
      "cell_type": "code",
      "source": [
        "from scipy.stats import norm\n",
        "norm.cdf(1)"
      ],
      "metadata": {
        "colab": {
          "base_uri": "https://localhost:8080/"
        },
        "id": "-oLwbAdKoNDF",
        "outputId": "a6a30253-d319-4762-cddc-94a8f0f250b7"
      },
      "execution_count": 3,
      "outputs": [
        {
          "output_type": "execute_result",
          "data": {
            "text/plain": [
              "0.8413447460685429"
            ]
          },
          "metadata": {},
          "execution_count": 3
        }
      ]
    },
    {
      "cell_type": "markdown",
      "source": [
        "To calculate $\\mathbb P(Z \\le 2)$:"
      ],
      "metadata": {
        "id": "iPxykpAhoJlS"
      }
    },
    {
      "cell_type": "code",
      "source": [
        "norm.cdf(2)"
      ],
      "metadata": {
        "colab": {
          "base_uri": "https://localhost:8080/"
        },
        "id": "Y1pqkW5fn2Au",
        "outputId": "4258ba4e-4298-4b70-d928-34599a748990"
      },
      "execution_count": 4,
      "outputs": [
        {
          "output_type": "execute_result",
          "data": {
            "text/plain": [
              "0.9772498680518208"
            ]
          },
          "metadata": {},
          "execution_count": 4
        }
      ]
    },
    {
      "cell_type": "markdown",
      "source": [
        "To calcualte $\\mathbb P(-1 \\le Z \\le 2)$: the answer is $\\Phi(2) - \\Phi(-1)$"
      ],
      "metadata": {
        "id": "NaQ6KB70ocBx"
      }
    },
    {
      "cell_type": "code",
      "source": [
        "norm.cdf(2) - norm.cdf(-1)"
      ],
      "metadata": {
        "colab": {
          "base_uri": "https://localhost:8080/"
        },
        "id": "8waAR3aNopMn",
        "outputId": "999b0064-91cb-4179-9af9-4de127a3b09f"
      },
      "execution_count": 7,
      "outputs": [
        {
          "output_type": "execute_result",
          "data": {
            "text/plain": [
              "0.8185946141203637"
            ]
          },
          "metadata": {},
          "execution_count": 7
        }
      ]
    },
    {
      "cell_type": "markdown",
      "source": [
        "# Normal distribution $N(\\mu, \\sigma^2)$\n",
        "\n",
        "A random variable $X$ has a normal distribution or Gaussian distribution with parameters $\\mu \\in (-\\infty, \\infty)$ and $\\sigma^2 > 0$ if its pdf has the form\n",
        "$$\n",
        "    f(x) = \\frac{1}{\\sqrt{2\\pi \\sigma^2}} e^{-\\frac{x^2}{2\\sigma^2}}, \\quad x \\in (-\\infty, \\infty).\n",
        "$$\n",
        "\n",
        "+ The mean value of $X$ is $\\mu$ and the variance of $X$ is $\\sigma^2$.\n",
        "\n",
        "+ We use $X \\sim N (\\mu, \\sigma^2)$ to denote that $X$ has the normal distribution with mean $\\mu$ and variance $\\sigma^2 > 0$.\n",
        "\n",
        "\n",
        "+ $Z = \\frac{X - \\mu}{\\sigma}$ has the standard normal distribution. Thus the cdf of $X$ can be expressed as\n",
        "$$\n",
        "    \\mathbb P (X \\le x) = \\mathbb P(\\frac{X - \\mu}{\\sigma} \\le \\frac{x - \\mu}{\\sigma}) = \\mathbb P(Z \\le \\frac{x - \\mu}{\\sigma}) = \\Phi(\\frac{x - \\mu}{\\sigma}).\n",
        "$$\n",
        "Here $\\sigma > 0$."
      ],
      "metadata": {
        "id": "KYzNgf7uozK6"
      }
    },
    {
      "cell_type": "markdown",
      "source": [
        "Example. Assume that $X \\sim N(1, 4)$. Calculate $\\mathbb P(X \\le 3)$ and $\\mathbb P(-2 \\le X \\le 3)$.\n",
        "\n",
        "Answer 1: Since $Z = (X-1)/2 \\sim N(0,1)$,\n",
        "$$\n",
        "    \\mathbb P (X \\le 3) = \\mathbb P (\\frac{X-1}{2} \\le \\frac{3-1}2) = \\mathbb P(Z \\le 1) = \\Phi(1).\n",
        "$$"
      ],
      "metadata": {
        "id": "54E_juyiqO-I"
      }
    },
    {
      "cell_type": "code",
      "source": [
        "norm.cdf(1)"
      ],
      "metadata": {
        "colab": {
          "base_uri": "https://localhost:8080/"
        },
        "id": "JAMHkoW9rfZ1",
        "outputId": "fb5e14dd-5161-4b45-cdf9-0b92555e6cf1"
      },
      "execution_count": 8,
      "outputs": [
        {
          "output_type": "execute_result",
          "data": {
            "text/plain": [
              "0.8413447460685429"
            ]
          },
          "metadata": {},
          "execution_count": 8
        }
      ]
    },
    {
      "cell_type": "markdown",
      "source": [
        "$$\n",
        "    \\mathbb P (-2 \\le X \\le 3) = \\mathbb P (\\frac{-2 - 1}2 \\le \\frac{X-1}{2} \\le \\frac{3-1}2) = \\mathbb P(-1.5 \\le Z \\le 1) = \\Phi(1) - \\Phi(-1.5).\n",
        "$$"
      ],
      "metadata": {
        "id": "44oZJcgDrnIr"
      }
    },
    {
      "cell_type": "code",
      "source": [
        "norm.cdf(1) - norm.cdf(-1.5)"
      ],
      "metadata": {
        "colab": {
          "base_uri": "https://localhost:8080/"
        },
        "id": "mQhStS_ErkHb",
        "outputId": "fd84f1ba-0b3f-44db-a95c-ac31a1bb99ee"
      },
      "execution_count": 9,
      "outputs": [
        {
          "output_type": "execute_result",
          "data": {
            "text/plain": [
              "0.7745375447996848"
            ]
          },
          "metadata": {},
          "execution_count": 9
        }
      ]
    },
    {
      "cell_type": "markdown",
      "source": [
        "Example. Assume that $X \\sim N(1, 4)$. Calculate $\\mathbb P(X \\le 3)$ and $\\mathbb P(-2 \\le X \\le 3)$.\n",
        "\n",
        "Answer 2: use norm.cdf(x, loc=1, scale=2):\n",
        "\n",
        "$$\n",
        "    \\mathbb P(X \\le 3) = \\texttt{norm.cdf}(x=3, loc=1, scale=2),\n",
        "$$\n",
        "or for simplicity,\n",
        "$$\n",
        "    \\mathbb P(X \\le 3) = \\texttt{norm.cdf}(3, 1, 2).\n",
        "$$\n",
        "Here loc and scale stand for the mean value and the standard deviation of a normal distribution, respectively."
      ],
      "metadata": {
        "id": "QnkdrNqEsBaF"
      }
    },
    {
      "cell_type": "code",
      "source": [
        "norm.cdf(x=3, loc=1, scale=2)"
      ],
      "metadata": {
        "colab": {
          "base_uri": "https://localhost:8080/"
        },
        "id": "mPYMq387s48I",
        "outputId": "8f4907c0-2749-4881-888d-4cc4b02f541b"
      },
      "execution_count": 10,
      "outputs": [
        {
          "output_type": "execute_result",
          "data": {
            "text/plain": [
              "0.8413447460685429"
            ]
          },
          "metadata": {},
          "execution_count": 10
        }
      ]
    },
    {
      "cell_type": "code",
      "source": [
        "norm.cdf(x=3, loc=1, scale=2) - norm.cdf(x=-2, loc=1, scale=2)"
      ],
      "metadata": {
        "colab": {
          "base_uri": "https://localhost:8080/"
        },
        "id": "Q-CJeTBLtenC",
        "outputId": "fb05778b-a463-44a4-dfa4-1e04cf4e7127"
      },
      "execution_count": 12,
      "outputs": [
        {
          "output_type": "execute_result",
          "data": {
            "text/plain": [
              "0.7745375447996848"
            ]
          },
          "metadata": {},
          "execution_count": 12
        }
      ]
    },
    {
      "cell_type": "markdown",
      "source": [
        "# Normal distribution $N(\\mu, \\sigma^2)$ with $\\sigma^2 \\ge 0$\n",
        "\n",
        "For convenience, $N(\\mu, 0)$ denotes a random variable getting the value $\\mu$ with probability $1$. When $X \\sim N(\\mu, \\sigma^2)$, then a linear combination of $X$ also has a normal distribution, that is,\n",
        "$$\n",
        "    a X + b \\sim N(a\\mu + b, a^2 \\sigma^2).\n",
        "$$\n",
        "In particular, when $Z \\sim N(0,1)$,\n",
        "$$\n",
        "    \\mu + \\sigma Z \\sim (\\mu, \\sigma^2).\n",
        "$$"
      ],
      "metadata": {
        "id": "dV53gcSrwUQr"
      }
    }
  ]
}